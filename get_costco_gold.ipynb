{
  "nbformat": 4,
  "nbformat_minor": 0,
  "metadata": {
    "colab": {
      "provenance": [],
      "include_colab_link": true
    },
    "kernelspec": {
      "name": "python3",
      "display_name": "Python 3"
    },
    "language_info": {
      "name": "python"
    }
  },
  "cells": [
    {
      "cell_type": "markdown",
      "metadata": {
        "id": "view-in-github",
        "colab_type": "text"
      },
      "source": [
        "<a href=\"https://colab.research.google.com/github/arunpras/Code-Sample/blob/main/get_costco_gold.ipynb\" target=\"_parent\"><img src=\"https://colab.research.google.com/assets/colab-badge.svg\" alt=\"Open In Colab\"/></a>"
      ]
    },
    {
      "cell_type": "code",
      "source": [
        "pip install fake-useragent\n"
      ],
      "metadata": {
        "colab": {
          "base_uri": "https://localhost:8080/"
        },
        "id": "4M25GQip86zk",
        "outputId": "fb16703d-f867-4b8d-eff1-12c6fed644a4"
      },
      "execution_count": 1,
      "outputs": [
        {
          "output_type": "stream",
          "name": "stdout",
          "text": [
            "Collecting fake-useragent\n",
            "  Downloading fake_useragent-1.5.1-py3-none-any.whl.metadata (15 kB)\n",
            "Downloading fake_useragent-1.5.1-py3-none-any.whl (17 kB)\n",
            "Installing collected packages: fake-useragent\n",
            "Successfully installed fake-useragent-1.5.1\n"
          ]
        }
      ]
    },
    {
      "cell_type": "code",
      "source": [
        "import requests\n",
        "from bs4 import BeautifulSoup\n",
        "from urllib.parse import urljoin\n",
        "from fake_useragent import UserAgent\n",
        "\n",
        "# Define your search keywords and negative keywords\n",
        "keywords = ['gold bar', 'gold coin', 'silver coin', 'silver bar']\n",
        "negative_keywords = ['necklace', 'plated', 'coated', 'search', 'keyword', 'pendant', 'baguette']  # Add 'search' to your negative keywords\n",
        "no_match_phrase = \"We were not able to find a match\"  # Phrase indicating no matches\n",
        "\n",
        "def get_valid_urls(soup, keyword):\n",
        "    \"\"\"Filter URLs based on negative keywords and the presence of search keywords.\"\"\"\n",
        "    valid_urls = []  # Initialize a list to hold valid URLs\n",
        "    # Find all links in the search result\n",
        "    for link in soup.find_all('a', href=True):\n",
        "        url = urljoin(\"https://www.costco.com\", link['href'])\n",
        "        # Exclude URLs containing any negative keywords\n",
        "        if not any(neg_kw in url for neg_kw in negative_keywords):\n",
        "            # Include URL if it contains all parts of the search keyword\n",
        "            if all(word.lower() in url.lower() for word in keyword.split()):\n",
        "                valid_urls.append(url)\n",
        "    return valid_urls\n",
        "\n",
        "def search_costco(keyword, no_match_phrase):\n",
        "    \"\"\"Searches Costco.com for the keyword.\"\"\"\n",
        "    ua = UserAgent()  # Initialize UserAgent object\n",
        "    headers = {'User-Agent': ua.random}  # Generate a random User-Agent\n",
        "    search_url = f'https://www.costco.com/CatalogSearch?dept=All&keyword=\"%22{keyword.replace(\" \", \"+\")}%22\"'\n",
        "    response = requests.get(search_url, headers=headers)\n",
        "\n",
        "    if response.status_code == 200:\n",
        "        soup = BeautifulSoup(response.text, 'html.parser')\n",
        "        if no_match_phrase.lower() in response.text.lower():\n",
        "            print(f'\"{keyword}\": {no_match_phrase}')\n",
        "            return []  # Early return if no match phrase is found\n",
        "        else:\n",
        "            return get_valid_urls(soup, keyword)\n",
        "    else:\n",
        "        print(f\"Failed to access {search_url}: Status code {response.status_code}\")\n",
        "        return []\n",
        "\n",
        "def main(no_match_phrase):\n",
        "    for keyword in keywords:\n",
        "        print(f'\\nSearching Costco.com for \"{keyword}\"...')\n",
        "        valid_urls = search_costco(keyword, no_match_phrase)\n",
        "        if valid_urls:\n",
        "            print(f\"Valid URLs for '{keyword}':\")\n",
        "            for url in valid_urls:\n",
        "                print(url)\n",
        "        else:\n",
        "            print(f\"No products found for '{keyword}' that meet the criteria or '{no_match_phrase}' was found.\")\n",
        "\n",
        "if __name__ == \"__main__\":\n",
        "    main(no_match_phrase)\n"
      ],
      "metadata": {
        "colab": {
          "base_uri": "https://localhost:8080/"
        },
        "id": "orHeoyTgzVBb",
        "outputId": "437845eb-d9ac-49fc-fd65-68d2d0a7585a"
      },
      "execution_count": 2,
      "outputs": [
        {
          "output_type": "stream",
          "name": "stdout",
          "text": [
            "\n",
            "Searching Costco.com for \"gold bar\"...\n",
            "\"gold bar\": We were not able to find a match\n",
            "No products found for 'gold bar' that meet the criteria or 'We were not able to find a match' was found.\n",
            "\n",
            "Searching Costco.com for \"gold coin\"...\n",
            "\"gold coin\": We were not able to find a match\n",
            "No products found for 'gold coin' that meet the criteria or 'We were not able to find a match' was found.\n",
            "\n",
            "Searching Costco.com for \"silver coin\"...\n",
            "\"silver coin\": We were not able to find a match\n",
            "No products found for 'silver coin' that meet the criteria or 'We were not able to find a match' was found.\n",
            "\n",
            "Searching Costco.com for \"silver bar\"...\n",
            "\"silver bar\": We were not able to find a match\n",
            "No products found for 'silver bar' that meet the criteria or 'We were not able to find a match' was found.\n"
          ]
        }
      ]
    },
    {
      "cell_type": "code",
      "execution_count": 5,
      "metadata": {
        "colab": {
          "base_uri": "https://localhost:8080/"
        },
        "id": "126ZdbYqzOCL",
        "outputId": "6d59a192-bdd9-4f4f-a2af-d086f7bb1f02"
      },
      "outputs": [
        {
          "output_type": "stream",
          "name": "stdout",
          "text": [
            "Searching for \"gold bar\"...\n",
            "Found 10 valid links for \"gold bar\".\n",
            "Checking link: https://www.costco.com/1-oz-gold-bar-pamp-suisse-lady-fortuna-veriscan-new-in-assay.product.4000186760.html\n",
            "Checking link: https://www.costco.com/1-oz-gold-bar-pamp-suisse-diwali-lakshmi.product.4000300302.html\n",
            "Checking link: https://www.costco.com/1-oz-gold-bar-rand-refinery-new-in-assay.product.4000202779.html\n",
            "Checking link: https://www.costco.com/50-gram-gold-bar-pamp-suisse-lady-fortuna-new-in-assay.product.4000226964.html\n",
            "Checking link: https://www.costco.com/100-gram-gold-bar-pamp-rosa-new-in-assay.product.4000227041.html\n",
            "Checking link: https://www.costco.com/1-oz-gold-bar-pamp-rosa-new-in-assay.product.4000226984.html\n",
            "Checking link: https://www.costco.com/25-gram-pamp-suisse-lady-fortuna-multigram-gold-bar-veriscan-new-in-assay.product.4000249484.html\n",
            "Checking link: https://www.costco.com/100-gram-gold-bar-pamp-suisse-lady-fortuna-veriscan-new-in-assay.product.4000239966.html\n",
            "Checking link: https://www.costco.com/1-oz-gold-bar-pamp-america-the-free-statue-of-liberty-new-in-assay.product.4000287729.html\n",
            "Checking link: https://www.costco.com/1-oz-gold-bar-pamp-lunar-legends-azure-dragon-new-in-assay.product.4000219068.html\n",
            "Searching for \"gold coin\"...\n",
            "Found 7 valid links for \"gold coin\".\n",
            "Checking link: https://www.costco.com/2024-1-oz-canada-maple-leaf-gold-coin.product.4000255297.html\n",
            "Checking link: https://www.costco.com/2024-1-oz-american-eagle-gold-coin.product.4000250660.html\n",
            "Checking link: https://www.costco.com/2024-1-oz-american-buffalo-gold-coin.product.4000250641.html\n",
            "Checking link: https://www.costco.com/1-oz-gold-bar-pamp-suisse-lady-fortuna-veriscan-new-in-assay.product.4000186760.html\n",
            "Checking link: https://www.costco.com/1-oz-canada-maple-leaf-gold-coin.product.4000235030.html\n",
            "Checking link: https://www.costco.com/1-oz-gold-bar-pamp-suisse-diwali-lakshmi.product.4000300302.html\n",
            "Checking link: https://www.costco.com/1-oz-gold-bar-pamp-lunar-legends-azure-dragon-new-in-assay.product.4000219068.html\n",
            "Searching for \"silver coin\"...\n",
            "Found 5 valid links for \"silver coin\".\n",
            "Checking link: https://www.costco.com/2024-1-oz-american-eagle-silver-coin,-20-count.product.4000240592.html\n",
            "Checking link: https://www.costco.com/2024-1-oz-canada-maple-leaf-silver-coin,-25-count.product.4000252852.html\n",
            "Checking link: https://www.costco.com/2023-1-oz-american-eagle-silver-coin,-20-count.product.4000239161.html\n",
            "Checking link: https://www.costco.com/2024-1-oz-canada-maple-leaf-gold-coin.product.4000255297.html\n",
            "Checking link: https://www.costco.com/2024-1-oz-american-eagle-gold-coin.product.4000250660.html\n",
            "Searching for \"silver bar\"...\n",
            "Found 5 valid links for \"silver bar\".\n",
            "Checking link: https://www.costco.com/2024-1-oz-american-eagle-silver-coin,-20-count.product.4000240592.html\n",
            "Checking link: https://www.costco.com/2023-1-oz-american-eagle-silver-coin,-20-count.product.4000239161.html\n",
            "Checking link: https://www.costco.com/2024-1-oz-canada-maple-leaf-silver-coin,-25-count.product.4000252852.html\n",
            "Checking link: https://www.costco.com/1-oz-gold-bar-pamp-suisse-lady-fortuna-veriscan-new-in-assay.product.4000186760.html\n",
            "Checking link: https://www.costco.com/1-oz-gold-bar-rand-refinery-new-in-assay.product.4000202779.html\n",
            "No available products found.\n"
          ]
        }
      ],
      "source": [
        "import requests\n",
        "from bs4 import BeautifulSoup\n",
        "from urllib.parse import urlparse, parse_qs, unquote\n",
        "from fake_useragent import UserAgent\n",
        "\n",
        "keywords = ['gold bar', 'gold coin', 'silver coin', 'silver bar']\n",
        "search_words = ['product not available']\n",
        "\n",
        "def clean_url(url):\n",
        "    \"\"\"Extract and clean URL from Google's redirect URL if necessary and ensure it points to a Costco product page.\"\"\"\n",
        "    if url.startswith('/url?q='):\n",
        "        parsed_url = urlparse(url)\n",
        "        extracted_url = parse_qs(parsed_url.query).get('q', [''])[0]\n",
        "        cleaned_url = unquote(extracted_url)\n",
        "        # Ensure the URL is for Costco and does not point to Google search results or maps\n",
        "        if 'costco.com' in cleaned_url and not cleaned_url.startswith('https://maps.google.com') \\\n",
        "           and 'accounts.google.com' not in cleaned_url and not cleaned_url.startswith('/search'):\n",
        "            return cleaned_url\n",
        "    return None\n",
        "\n",
        "\n",
        "def is_keyword_in_url(url, keywords):\n",
        "    \"\"\"Check if the URL contains any of the keyword phrases.\"\"\"\n",
        "    for keyword in keywords:\n",
        "        # Split the keyword into individual words and check if all are in the URL\n",
        "        if all(word in url for word in keyword.split()):\n",
        "            return True\n",
        "    return False\n",
        "\n",
        "def search_google(query):\n",
        "    \"\"\"Searches Google and returns Costco links that match the keyword criteria. Filters out non-product links.\"\"\"\n",
        "    headers = {'User-Agent': 'Mozilla/5.0'}\n",
        "    search_url = f'https://www.google.com/search?q=site:costco.com+{query}'\n",
        "    response = requests.get(search_url, headers=headers)\n",
        "    soup = BeautifulSoup(response.text, 'html.parser')\n",
        "    links = soup.find_all('a')\n",
        "    costco_links = []\n",
        "    for link in links:\n",
        "        href = link.get('href')\n",
        "        if href:\n",
        "            cleaned_url = clean_url(href)\n",
        "            # Check if the cleaned URL is not None and matches the keyword criteria\n",
        "            if cleaned_url and is_keyword_in_url(cleaned_url, keywords):\n",
        "                costco_links.append(cleaned_url)\n",
        "    return costco_links\n",
        "\n",
        "def check_words_in_page(url, search_words):\n",
        "    \"\"\"Check if any of the specified words exist in the web page at the given URL.\"\"\"\n",
        "    try:\n",
        "        # Initialize UserAgent object\n",
        "        ua = UserAgent()\n",
        "\n",
        "        # Generate a random User-Agent\n",
        "        headers = {'User-Agent': ua.random}\n",
        "\n",
        "        # Adding a timeout to the request and passing the random User-Agent\n",
        "        response = requests.get(url, headers=headers, timeout=10)\n",
        "        if response.status_code == 200:\n",
        "            # Uncomment the next line if you need to debug or inspect the response text\n",
        "            # print(f'Found the following text, \\n {response.text}')\n",
        "            soup = BeautifulSoup(response.text, 'html.parser')\n",
        "            text = soup.get_text().lower()\n",
        "            return any(word.lower() in text for word in search_words)\n",
        "        else:\n",
        "            print(f\"Failed to access {url}: Status code {response.status_code}\")\n",
        "            return False\n",
        "    except requests.exceptions.Timeout:\n",
        "        # If a timeout occurs\n",
        "        print(f\"Request to {url} timed out.\")\n",
        "        return False\n",
        "    except Exception as e:\n",
        "        print(f\"An error occurred while accessing {url}: {e}\")\n",
        "        return Falseg\n",
        "\n",
        "def main():\n",
        "    available_products = []  # List to hold URLs of available products\n",
        "\n",
        "    for keyword in keywords:\n",
        "        print(f'Searching for \"{keyword}\"...')\n",
        "        # Now search_google uses the keyword directly for more accurate results\n",
        "        costco_links = search_google(keyword)\n",
        "        if costco_links:\n",
        "            print(f'Found {len(costco_links)} valid links for \"{keyword}\".')\n",
        "            for link in costco_links:\n",
        "                print(f'Checking link: {link}')\n",
        "                exists = check_words_in_page(link, search_words)\n",
        "                if not exists:  # If 'words found' is False, the product is considered available\n",
        "                    available_products.append(link)  # Add to the list of available products\n",
        "                    print(f\"Product available at: {link}\")\n",
        "                # else:\n",
        "                #     print(f\"Product not available or page contains search words: {link}\")\n",
        "        else:\n",
        "            print(f'No valid Costco links found for \"{keyword}\".')\n",
        "\n",
        "    # After processing all keywords, print or process the list of available product URLs\n",
        "    if available_products:\n",
        "        print(\"\\nList of available product URLs:\")\n",
        "        for product_url in available_products:\n",
        "            print(product_url)\n",
        "    else:\n",
        "        print(\"No available products found.\")\n",
        "\n",
        "if __name__ == \"__main__\":\n",
        "    main()"
      ]
    },
    {
      "cell_type": "code",
      "source": [],
      "metadata": {
        "id": "M3X5ieq-_wRb"
      },
      "execution_count": null,
      "outputs": []
    }
  ]
}